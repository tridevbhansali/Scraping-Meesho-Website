{
 "cells": [
  {
   "cell_type": "code",
   "execution_count": null,
   "id": "9a76cc91",
   "metadata": {},
   "outputs": [],
   "source": [
    "from selenium import webdriver\n",
    "from selenium.webdriver.edge.service import Service\n",
    "from selenium.webdriver.common.by import By\n",
    "from selenium.webdriver.support.wait import WebDriverWait\n",
    "from selenium.webdriver.support import expected_conditions as EC\n",
    "import pandas as pd\n",
    "import time"
   ]
  },
  {
   "cell_type": "code",
   "execution_count": null,
   "id": "76c4ae97",
   "metadata": {
    "scrolled": true
   },
   "outputs": [],
   "source": [
    "service = Service('C:\\Program Files (x86)\\msedgedriver.exe')\n",
    "driver = webdriver.Edge(service=service)\n",
    "\n",
    "product_name = []\n",
    "price = []\n",
    "mrp = []\n",
    "discount_per = []  \n",
    "material = []\n",
    "pattern = []\n",
    "manufacturer = []\n",
    "impoter = []\n",
    "\n",
    "for page in range(1,3):\n",
    "    driver.get('https://meesho.com/sports-shoes-men/pl/4dxfc?page='+str(page))\n",
    "    driver.maximize_window()\n",
    "    elements = WebDriverWait(driver, 20).until(EC.visibility_of_all_elements_located((By.XPATH, \"//div[@class='sc-gsnTZi Grid__Row-sc-4ki5nk-0 gfMTeL WphYx products']/div/a\")))\n",
    "    for element in elements:\n",
    "        href = element.get_attribute('href')\n",
    "        driver.execute_script(\"window.open('\" +href +\"');\")\n",
    "        driver.switch_to.window(driver.window_handles[1])\n",
    "        try:\n",
    "            product_names = WebDriverWait(driver, 10).until(EC.visibility_of_element_located((By.XPATH,\"/html/body/div/div[3]/div/div[2]/div[1]/span\")))\n",
    "        except:\n",
    "            driver.close()\n",
    "            driver.switch_to.window(driver.window_handles[0])\n",
    "            driver.execute_script(\"window.open('\" +href +\"');\")\n",
    "            driver.switch_to.window(driver.window_handles[1])\n",
    "            product_names = WebDriverWait(driver, 20).until(EC.visibility_of_element_located((By.XPATH,\"/html/body/div/div[3]/div/div[2]/div[1]/span\")))    \n",
    "        prices = driver.find_element(By.TAG_NAME, 'h4')\n",
    "        mrps = driver.find_element(By.XPATH, '/html/body/div/div[3]/div/div[2]/div[1]/div[1]/p')\n",
    "        discount_pers = driver.find_element(By.XPATH, '/html/body/div/div[3]/div/div[2]/div[1]/div[1]/span[1]')\n",
    "        try:\n",
    "            materials = driver.find_element(By.XPATH, \"//div/div/p[text() = 'Material']\") \n",
    "        except:\n",
    "            material.append(None)\n",
    "        else:\n",
    "            material.append(materials.text[11:])\n",
    "        try:\n",
    "            patterns = driver.find_element(By.XPATH, \"//div/div/p[text() = 'Pattern']\")\n",
    "        except:\n",
    "            pattern.append(None)\n",
    "        else:\n",
    "            pattern.append(patterns.text[10:])\n",
    "        product_name.append(product_names.text)\n",
    "        price.append(prices.text[1:])\n",
    "        mrp.append(mrps.text[1:])\n",
    "        discount_per.append(discount_pers.text[:3])\n",
    "        driver.find_element(By.XPATH, '/html/body/div/div[3]/div/div[2]/div[3]/div/span').click()\n",
    "        manufacturers = WebDriverWait(driver, 20).until(EC.visibility_of_element_located((By.XPATH, '//div[@class=\"Popupstyled__PopupContent-sc-cngcu8-1 iHHCOM\"]/div/div[1]/span[2]')))\n",
    "        impoters = driver.find_element(By.XPATH, '//div[@class=\"Popupstyled__PopupContent-sc-cngcu8-1 iHHCOM\"]/div/div[3]/span[2]')\n",
    "        manufacturer.append(manufacturers.text)\n",
    "        impoter.append(impoters.text)\n",
    "        driver.close()\n",
    "        driver.switch_to.window(driver.window_handles[0])\n",
    "driver.quit()\n",
    "\n",
    "Meesho = pd.DataFrame({'Name': product_name,'Price': price, 'MRP': mrp, 'Discount_percent': discount_per, 'Material': material, 'Pattern': pattern, \n",
    "                        'Manufacturer': manufacturer, 'Impoter': impoter})\n",
    "print(Meesho)\n"
   ]
  },
  {
   "cell_type": "code",
   "execution_count": null,
   "id": "acfc5a5d",
   "metadata": {},
   "outputs": [],
   "source": [
    "Meesho.to_csv(r\"C:\\Users\\Tridev\\Desktop\\Meesho.csv\", index=False)"
   ]
  },
  {
   "cell_type": "code",
   "execution_count": null,
   "id": "f2fce83e",
   "metadata": {},
   "outputs": [],
   "source": []
  },
  {
   "cell_type": "code",
   "execution_count": null,
   "id": "3537ae9b",
   "metadata": {},
   "outputs": [],
   "source": []
  }
 ],
 "metadata": {
  "kernelspec": {
   "display_name": "Python 3 (ipykernel)",
   "language": "python",
   "name": "python3"
  },
  "language_info": {
   "codemirror_mode": {
    "name": "ipython",
    "version": 3
   },
   "file_extension": ".py",
   "mimetype": "text/x-python",
   "name": "python",
   "nbconvert_exporter": "python",
   "pygments_lexer": "ipython3",
   "version": "3.9.7"
  }
 },
 "nbformat": 4,
 "nbformat_minor": 5
}
